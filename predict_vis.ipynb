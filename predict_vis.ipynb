{
 "cells": [
  {
   "cell_type": "code",
   "id": "initial_id",
   "metadata": {
    "collapsed": true,
    "ExecuteTime": {
     "end_time": "2024-11-06T16:34:05.098231Z",
     "start_time": "2024-11-06T16:34:05.096757Z"
    }
   },
   "source": "",
   "outputs": [],
   "execution_count": null
  },
  {
   "metadata": {
    "ExecuteTime": {
     "end_time": "2024-11-06T19:56:34.839938Z",
     "start_time": "2024-11-06T19:56:34.825509Z"
    }
   },
   "cell_type": "code",
   "source": [
    "import matplotlib.pyplot as plt\n",
    "import pandas as pd\n",
    "import numpy as np\n",
    "import random\n",
    "from copy import deepcopy\n",
    "\n",
    "from helpers.plotting import plot_patient\n",
    "%load_ext autoreload\n",
    "%autoreload 2\n",
    "np.random.seed(0)\n",
    "random.seed(0)"
   ],
   "id": "e3c7292fd9d63f11",
   "outputs": [
    {
     "name": "stdout",
     "output_type": "stream",
     "text": [
      "The autoreload extension is already loaded. To reload it, use:\n",
      "  %reload_ext autoreload\n"
     ]
    }
   ],
   "execution_count": 7
  },
  {
   "metadata": {
    "ExecuteTime": {
     "end_time": "2024-11-06T19:56:35.128605Z",
     "start_time": "2024-11-06T19:56:35.115992Z"
    }
   },
   "cell_type": "code",
   "source": [
    "# suppress warnings\n",
    "import warnings\n",
    "warnings.filterwarnings('ignore')"
   ],
   "id": "db9364aac4a222d6",
   "outputs": [],
   "execution_count": 8
  },
  {
   "metadata": {
    "ExecuteTime": {
     "end_time": "2024-11-06T19:56:35.488563Z",
     "start_time": "2024-11-06T19:56:35.473633Z"
    }
   },
   "cell_type": "code",
   "source": [
    "import numpy as np\n",
    "np.seterr(divide='ignore', invalid='ignore')"
   ],
   "id": "af60044ba566e68c",
   "outputs": [
    {
     "data": {
      "text/plain": [
       "{'divide': 'ignore', 'over': 'warn', 'under': 'ignore', 'invalid': 'ignore'}"
      ]
     },
     "execution_count": 9,
     "metadata": {},
     "output_type": "execute_result"
    }
   ],
   "execution_count": 9
  },
  {
   "metadata": {},
   "cell_type": "markdown",
   "source": "### Load the data",
   "id": "c4cca48be4d8356f"
  },
  {
   "metadata": {
    "ExecuteTime": {
     "end_time": "2024-11-06T19:56:35.984958Z",
     "start_time": "2024-11-06T19:56:35.885034Z"
    }
   },
   "cell_type": "code",
   "source": [
    "import pickle\n",
    "\n",
    "with open('cycles.pkl', 'rb') as f:\n",
    "    cycles_tfp = pickle.load(f)\n",
    "\n",
    "all_cycles = cycles_tfp"
   ],
   "id": "dbbcbe572f45b9da",
   "outputs": [],
   "execution_count": 10
  },
  {
   "metadata": {
    "ExecuteTime": {
     "end_time": "2024-11-06T19:56:36.407226Z",
     "start_time": "2024-11-06T19:56:36.394019Z"
    }
   },
   "cell_type": "code",
   "source": [
    "with open('best_params_all_scans.pkl', 'rb') as f:\n",
    "    best_params_dict = pickle.load(f)\n",
    "    "
   ],
   "id": "8da24405c61f20aa",
   "outputs": [],
   "execution_count": 11
  },
  {
   "metadata": {
    "ExecuteTime": {
     "end_time": "2024-11-06T19:57:17.585425Z",
     "start_time": "2024-11-06T19:56:37.347889Z"
    }
   },
   "cell_type": "code",
   "source": [
    "from sklearn.model_selection import train_test_split\n",
    "from experiment_framework import data_prep_for_RF\n",
    "from sklearn.ensemble import RandomForestRegressor\n",
    "\n",
    "train_patients, test_patients = train_test_split(all_cycles, test_size=0.3, random_state=0)\n",
    "\n",
    "results_dict = {}\n",
    "train_test_X_y, train_patients, test_patients = data_prep_for_RF(train_patients=train_patients,\n",
    "                                                                 test_patients=test_patients)\n",
    "\n",
    "\n"
   ],
   "id": "1cdc626e1ef7024d",
   "outputs": [
    {
     "name": "stderr",
     "output_type": "stream",
     "text": [
      "100%|██████████| 1563/1563 [00:10<00:00, 148.77it/s]\n",
      "100%|██████████| 671/671 [00:02<00:00, 276.79it/s]\n",
      "100%|██████████| 1563/1563 [00:20<00:00, 77.05it/s]\n",
      "100%|██████████| 671/671 [00:06<00:00, 98.15it/s] \n"
     ]
    }
   ],
   "execution_count": 12
  },
  {
   "metadata": {},
   "cell_type": "markdown",
   "source": "### Train RF models",
   "id": "c2ad8f0237041948"
  },
  {
   "metadata": {
    "ExecuteTime": {
     "end_time": "2024-11-06T19:57:42.979045Z",
     "start_time": "2024-11-06T19:57:38.831546Z"
    }
   },
   "cell_type": "code",
   "source": [
    "models_dict = {}\n",
    "for bin in train_test_X_y.keys():\n",
    "    print(bin)\n",
    "    models_dict[bin] = RandomForestRegressor(n_estimators=round(best_params_dict[bin]['n_estimators']),\n",
    "                                             max_depth=round(best_params_dict[bin]['max_depth']),\n",
    "                                             min_samples_leaf=best_params_dict[bin]['min_samples_leaf'],\n",
    "                                             min_samples_split=best_params_dict[bin]['min_samples_split'],\n",
    "                                             random_state=42,\n",
    "                                             n_jobs=-1)\n",
    "    # replace nan with -1 in 'weight' column\n",
    "    train_test_X_y[bin]['X_train']['weight'] = train_test_X_y[bin]['X_train']['weight'].fillna(-1)\n",
    "    \n",
    "\n",
    "    models_dict[bin].fit(train_test_X_y[bin]['X_train'], train_test_X_y[bin]['y_train'])\n",
    "\n",
    "models_dict['bins'] = train_test_X_y.keys()"
   ],
   "id": "6479baf2731fd72a",
   "outputs": [
    {
     "name": "stdout",
     "output_type": "stream",
     "text": [
      "5-8\n",
      "8-11\n",
      "11-14\n",
      "14-17\n",
      "17-20\n",
      "20-23\n",
      "23-26\n"
     ]
    }
   ],
   "execution_count": 13
  },
  {
   "metadata": {},
   "cell_type": "markdown",
   "source": "### Train histostep model",
   "id": "db9b56021cef5241"
  },
  {
   "metadata": {
    "ExecuteTime": {
     "end_time": "2024-11-06T19:58:13.190981Z",
     "start_time": "2024-11-06T19:58:12.472835Z"
    }
   },
   "cell_type": "code",
   "source": [
    "from modelling.histostep_model_v2 import HistostepModel2\n",
    "\n",
    "\n",
    "histomodel = HistostepModel2()\n",
    "histomodel.train(train_patients, gaussian_filter=True)\n"
   ],
   "id": "8a05c271557f7339",
   "outputs": [
    {
     "name": "stdout",
     "output_type": "stream",
     "text": [
      "Generating stats for predictors\n",
      "Predictor: age\n"
     ]
    },
    {
     "name": "stderr",
     "output_type": "stream",
     "text": [
      "100%|██████████| 1126/1126 [00:00<00:00, 73657.73it/s]\n",
      "100%|██████████| 1126/1126 [00:00<00:00, 18534.61it/s]\n",
      "100%|██████████| 437/437 [00:00<00:00, 3911.95it/s]\n",
      "100%|██████████| 437/437 [00:00<00:00, 24912.82it/s]\n"
     ]
    },
    {
     "name": "stdout",
     "output_type": "stream",
     "text": [
      "Predictor: weight\n"
     ]
    },
    {
     "name": "stderr",
     "output_type": "stream",
     "text": [
      "100%|██████████| 258/258 [00:00<00:00, 57367.89it/s]\n",
      "100%|██████████| 258/258 [00:00<00:00, 23378.21it/s]\n",
      "100%|██████████| 515/515 [00:00<00:00, 85560.74it/s]\n",
      "100%|██████████| 515/515 [00:00<00:00, 24629.33it/s]\n",
      "100%|██████████| 147/147 [00:00<00:00, 25453.61it/s]\n",
      "100%|██████████| 147/147 [00:00<00:00, 19500.37it/s]\n"
     ]
    },
    {
     "name": "stdout",
     "output_type": "stream",
     "text": [
      "Predictor: afc\n"
     ]
    },
    {
     "name": "stderr",
     "output_type": "stream",
     "text": [
      "0it [00:00, ?it/s]\n",
      "0it [00:00, ?it/s]\n",
      "0it [00:00, ?it/s]\n",
      "0it [00:00, ?it/s]\n",
      "0it [00:00, ?it/s]\n",
      "0it [00:00, ?it/s]\n"
     ]
    },
    {
     "name": "stdout",
     "output_type": "stream",
     "text": [
      "Predictor: init_dose\n"
     ]
    },
    {
     "name": "stderr",
     "output_type": "stream",
     "text": [
      "0it [00:00, ?it/s]\n",
      "0it [00:00, ?it/s]\n",
      "0it [00:00, ?it/s]\n",
      "0it [00:00, ?it/s]\n",
      "0it [00:00, ?it/s]\n",
      "0it [00:00, ?it/s]\n"
     ]
    },
    {
     "name": "stdout",
     "output_type": "stream",
     "text": [
      "Predictor: protocol\n"
     ]
    },
    {
     "name": "stderr",
     "output_type": "stream",
     "text": [
      "0it [00:00, ?it/s]\n",
      "0it [00:00, ?it/s]\n",
      "0it [00:00, ?it/s]\n",
      "0it [00:00, ?it/s]\n"
     ]
    },
    {
     "name": "stdout",
     "output_type": "stream",
     "text": [
      "Predictor: overall\n"
     ]
    },
    {
     "name": "stderr",
     "output_type": "stream",
     "text": [
      "100%|██████████| 1563/1563 [00:00<00:00, 87338.26it/s]\n",
      "100%|██████████| 1563/1563 [00:00<00:00, 23348.91it/s]\n"
     ]
    },
    {
     "name": "stdout",
     "output_type": "stream",
     "text": [
      "Predictor: amh\n"
     ]
    },
    {
     "name": "stderr",
     "output_type": "stream",
     "text": [
      "0it [00:00, ?it/s]\n",
      "0it [00:00, ?it/s]\n",
      "0it [00:00, ?it/s]\n",
      "0it [00:00, ?it/s]\n",
      "0it [00:00, ?it/s]\n",
      "0it [00:00, ?it/s]\n"
     ]
    }
   ],
   "execution_count": 14
  },
  {
   "metadata": {},
   "cell_type": "markdown",
   "source": "### Predict on test patients",
   "id": "ce61e56f81d6c40f"
  },
  {
   "metadata": {
    "ExecuteTime": {
     "end_time": "2024-11-06T19:58:42.081936Z",
     "start_time": "2024-11-06T19:58:23.301404Z"
    }
   },
   "cell_type": "code",
   "source": [
    "from experiment_framework import drop_scans_in_between\n",
    "\n",
    "cycles_no_scans_between = deepcopy(test_patients)\n",
    "cycles_no_scans_between = drop_scans_in_between(cycles_no_scans_between)\n",
    "simulated_corrected, _ = histomodel.predict(cycles_no_scans_between, add_missing_dates=True, use_bin_act_only=True,\n",
    "                                            follicle_only=True, bin_only=False)"
   ],
   "id": "d360e39a81369a60",
   "outputs": [
    {
     "name": "stderr",
     "output_type": "stream",
     "text": [
      "100%|██████████| 671/671 [00:18<00:00, 36.31it/s]\n"
     ]
    }
   ],
   "execution_count": 16
  },
  {
   "metadata": {},
   "cell_type": "markdown",
   "source": "### Plot a cycle",
   "id": "84542f66c4404474"
  },
  {
   "metadata": {
    "ExecuteTime": {
     "end_time": "2024-11-06T20:06:06.006477Z",
     "start_time": "2024-11-06T20:06:05.834057Z"
    }
   },
   "cell_type": "code",
   "source": [
    "from helpers.plotting import plot_patient\n",
    "df_ = plot_patient(simulated_corrected[0], plot_until_last_act=True)"
   ],
   "id": "7298c7bf941c5dd5",
   "outputs": [
    {
     "name": "stdout",
     "output_type": "stream",
     "text": [
      "no\n",
      "yes\n"
     ]
    },
    {
     "data": {
      "text/plain": [
       "<Figure size 1400x1000 with 1 Axes>"
      ],
      "image/png": "[encoded data removed]"
     },
     "metadata": {},
     "output_type": "display_data"
    }
   ],
   "execution_count": 18
  },
  {
   "metadata": {
    "ExecuteTime": {
     "end_time": "2024-11-06T16:36:24.519891Z",
     "start_time": "2024-11-06T16:36:24.517823Z"
    }
   },
   "cell_type": "code",
   "source": "",
   "id": "eaacd28f06c03ddc",
   "outputs": [],
   "execution_count": null
  }
 ],
 "metadata": {
  "kernelspec": {
   "display_name": "Python 3",
   "language": "python",
   "name": "python3"
  },
  "language_info": {
   "codemirror_mode": {
    "name": "ipython",
    "version": 2
   },
   "file_extension": ".py",
   "mimetype": "text/x-python",
   "name": "python",
   "nbconvert_exporter": "python",
   "pygments_lexer": "ipython2",
   "version": "2.7.6"
  }
 },
 "nbformat": 4,
 "nbformat_minor": 5
}
